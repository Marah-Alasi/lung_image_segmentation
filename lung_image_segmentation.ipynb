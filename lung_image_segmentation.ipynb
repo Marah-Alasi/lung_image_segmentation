{
  "nbformat": 4,
  "nbformat_minor": 0,
  "metadata": {
    "colab": {
      "provenance": [],
      "mount_file_id": "1o3QzKcPkNj_JIqdsZ0YOgXroMVAcjLsI",
      "authorship_tag": "ABX9TyNJljENMG2omQFFFUJZUhjO",
      "include_colab_link": true
    },
    "kernelspec": {
      "name": "python3",
      "display_name": "Python 3"
    },
    "language_info": {
      "name": "python"
    }
  },
  "cells": [
    {
      "cell_type": "markdown",
      "metadata": {
        "id": "view-in-github",
        "colab_type": "text"
      },
      "source": [
        "<a href=\"https://colab.research.google.com/github/Marah-Alasi/lung_image_segmentation/blob/main/lung_image_segmentation.ipynb\" target=\"_parent\"><img src=\"https://colab.research.google.com/assets/colab-badge.svg\" alt=\"Open In Colab\"/></a>"
      ]
    },
    {
      "cell_type": "code",
      "execution_count": null,
      "metadata": {
        "id": "ehFcgWN0mLTz"
      },
      "outputs": [],
      "source": []
    },
    {
      "cell_type": "code",
      "source": [],
      "metadata": {
        "id": "j0bwoAmn6TKJ"
      },
      "execution_count": null,
      "outputs": []
    },
    {
      "cell_type": "code",
      "source": [
        "from google.colab import drive\n",
        "drive.mount('/content/drive/')\n",
        "\n",
        "images_PATH = '/content/drive/MyDrive/Colab Notebooks/2d_images'\n",
        "masks_PATH = '/content/drive/MyDrive/Colab Notebooks/2d_masks'"
      ],
      "metadata": {
        "id": "DrPq-0EHcq-i"
      },
      "execution_count": null,
      "outputs": []
    },
    {
      "cell_type": "markdown",
      "source": [],
      "metadata": {
        "id": "6VCjIjzBf0fT"
      }
    }
  ]
}